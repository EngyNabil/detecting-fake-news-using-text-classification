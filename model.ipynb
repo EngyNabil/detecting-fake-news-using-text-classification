{
 "cells": [
  {
   "cell_type": "code",
   "execution_count": null,
   "metadata": {},
   "outputs": [
    {
     "name": "stderr",
     "output_type": "stream",
     "text": [
      "[nltk_data] Downloading package punkt to\n",
      "[nltk_data]     C:\\Users\\Basma\\AppData\\Roaming\\nltk_data...\n",
      "[nltk_data]   Package punkt is already up-to-date!\n",
      "[nltk_data] Downloading package stopwords to\n",
      "[nltk_data]     C:\\Users\\Basma\\AppData\\Roaming\\nltk_data...\n",
      "[nltk_data]   Package stopwords is already up-to-date!\n"
     ]
    },
    {
     "name": "stdout",
     "output_type": "stream",
     "text": [
      "Are you hungary?!.\n",
      "Are you hungary?!.\n"
     ]
    },
    {
     "name": "stderr",
     "output_type": "stream",
     "text": [
      "C:\\Users\\Basma\\Anaconda3\\lib\\site-packages\\sklearn\\base.py:306: UserWarning: Trying to unpickle estimator CountVectorizer from version 0.22.1 when using version 0.21.3. This might lead to breaking code or invalid results. Use at your own risk.\n",
      "  UserWarning)\n",
      "C:\\Users\\Basma\\Anaconda3\\lib\\site-packages\\sklearn\\base.py:306: UserWarning: Trying to unpickle estimator TfidfTransformer from version 0.22.1 when using version 0.21.3. This might lead to breaking code or invalid results. Use at your own risk.\n",
      "  UserWarning)\n"
     ]
    },
    {
     "name": "stdout",
     "output_type": "stream",
     "text": [
      "[0]\n"
     ]
    },
    {
     "name": "stderr",
     "output_type": "stream",
     "text": [
      "C:\\Users\\Basma\\Anaconda3\\lib\\site-packages\\sklearn\\base.py:306: UserWarning: Trying to unpickle estimator CountVectorizer from version 0.22.1 when using version 0.21.3. This might lead to breaking code or invalid results. Use at your own risk.\n",
      "  UserWarning)\n",
      "C:\\Users\\Basma\\Anaconda3\\lib\\site-packages\\sklearn\\base.py:306: UserWarning: Trying to unpickle estimator TfidfTransformer from version 0.22.1 when using version 0.21.3. This might lead to breaking code or invalid results. Use at your own risk.\n",
      "  UserWarning)\n"
     ]
    },
    {
     "name": "stdout",
     "output_type": "stream",
     "text": [
      "[0]\n"
     ]
    },
    {
     "name": "stderr",
     "output_type": "stream",
     "text": [
      "C:\\Users\\Basma\\Anaconda3\\lib\\site-packages\\sklearn\\base.py:306: UserWarning: Trying to unpickle estimator CountVectorizer from version 0.22.1 when using version 0.21.3. This might lead to breaking code or invalid results. Use at your own risk.\n",
      "  UserWarning)\n",
      "C:\\Users\\Basma\\Anaconda3\\lib\\site-packages\\sklearn\\base.py:306: UserWarning: Trying to unpickle estimator TfidfTransformer from version 0.22.1 when using version 0.21.3. This might lead to breaking code or invalid results. Use at your own risk.\n",
      "  UserWarning)\n"
     ]
    },
    {
     "name": "stdout",
     "output_type": "stream",
     "text": [
      "[1]\n"
     ]
    },
    {
     "name": "stderr",
     "output_type": "stream",
     "text": [
      "C:\\Users\\Basma\\Anaconda3\\lib\\site-packages\\sklearn\\base.py:306: UserWarning: Trying to unpickle estimator CountVectorizer from version 0.22.1 when using version 0.21.3. This might lead to breaking code or invalid results. Use at your own risk.\n",
      "  UserWarning)\n",
      "C:\\Users\\Basma\\Anaconda3\\lib\\site-packages\\sklearn\\base.py:306: UserWarning: Trying to unpickle estimator TfidfTransformer from version 0.22.1 when using version 0.21.3. This might lead to breaking code or invalid results. Use at your own risk.\n",
      "  UserWarning)\n",
      "C:\\Users\\Basma\\Anaconda3\\lib\\site-packages\\sklearn\\base.py:306: UserWarning: Trying to unpickle estimator CountVectorizer from version 0.22.1 when using version 0.21.3. This might lead to breaking code or invalid results. Use at your own risk.\n",
      "  UserWarning)\n",
      "C:\\Users\\Basma\\Anaconda3\\lib\\site-packages\\sklearn\\base.py:306: UserWarning: Trying to unpickle estimator TfidfTransformer from version 0.22.1 when using version 0.21.3. This might lead to breaking code or invalid results. Use at your own risk.\n",
      "  UserWarning)\n"
     ]
    },
    {
     "name": "stdout",
     "output_type": "stream",
     "text": [
      "[0]\n",
      "[0]\n"
     ]
    },
    {
     "name": "stderr",
     "output_type": "stream",
     "text": [
      "C:\\Users\\Basma\\Anaconda3\\lib\\site-packages\\sklearn\\base.py:306: UserWarning: Trying to unpickle estimator CountVectorizer from version 0.22.1 when using version 0.21.3. This might lead to breaking code or invalid results. Use at your own risk.\n",
      "  UserWarning)\n",
      "C:\\Users\\Basma\\Anaconda3\\lib\\site-packages\\sklearn\\base.py:306: UserWarning: Trying to unpickle estimator TfidfTransformer from version 0.22.1 when using version 0.21.3. This might lead to breaking code or invalid results. Use at your own risk.\n",
      "  UserWarning)\n",
      "C:\\Users\\Basma\\Anaconda3\\lib\\site-packages\\sklearn\\base.py:306: UserWarning: Trying to unpickle estimator CountVectorizer from version 0.22.1 when using version 0.21.3. This might lead to breaking code or invalid results. Use at your own risk.\n",
      "  UserWarning)\n",
      "C:\\Users\\Basma\\Anaconda3\\lib\\site-packages\\sklearn\\base.py:306: UserWarning: Trying to unpickle estimator TfidfTransformer from version 0.22.1 when using version 0.21.3. This might lead to breaking code or invalid results. Use at your own risk.\n",
      "  UserWarning)\n"
     ]
    },
    {
     "name": "stdout",
     "output_type": "stream",
     "text": [
      "[1]\n",
      "[0]\n"
     ]
    },
    {
     "name": "stderr",
     "output_type": "stream",
     "text": [
      "C:\\Users\\Basma\\Anaconda3\\lib\\site-packages\\sklearn\\base.py:306: UserWarning: Trying to unpickle estimator CountVectorizer from version 0.22.1 when using version 0.21.3. This might lead to breaking code or invalid results. Use at your own risk.\n",
      "  UserWarning)\n",
      "C:\\Users\\Basma\\Anaconda3\\lib\\site-packages\\sklearn\\base.py:306: UserWarning: Trying to unpickle estimator TfidfTransformer from version 0.22.1 when using version 0.21.3. This might lead to breaking code or invalid results. Use at your own risk.\n",
      "  UserWarning)\n"
     ]
    },
    {
     "name": "stdout",
     "output_type": "stream",
     "text": [
      "[0]\n"
     ]
    },
    {
     "name": "stderr",
     "output_type": "stream",
     "text": [
      "C:\\Users\\Basma\\Anaconda3\\lib\\site-packages\\sklearn\\base.py:306: UserWarning: Trying to unpickle estimator CountVectorizer from version 0.22.1 when using version 0.21.3. This might lead to breaking code or invalid results. Use at your own risk.\n",
      "  UserWarning)\n",
      "C:\\Users\\Basma\\Anaconda3\\lib\\site-packages\\sklearn\\base.py:306: UserWarning: Trying to unpickle estimator TfidfTransformer from version 0.22.1 when using version 0.21.3. This might lead to breaking code or invalid results. Use at your own risk.\n",
      "  UserWarning)\n",
      "C:\\Users\\Basma\\Anaconda3\\lib\\site-packages\\sklearn\\base.py:306: UserWarning: Trying to unpickle estimator CountVectorizer from version 0.22.1 when using version 0.21.3. This might lead to breaking code or invalid results. Use at your own risk.\n",
      "  UserWarning)\n",
      "C:\\Users\\Basma\\Anaconda3\\lib\\site-packages\\sklearn\\base.py:306: UserWarning: Trying to unpickle estimator TfidfTransformer from version 0.22.1 when using version 0.21.3. This might lead to breaking code or invalid results. Use at your own risk.\n",
      "  UserWarning)\n",
      "C:\\Users\\Basma\\Anaconda3\\lib\\site-packages\\sklearn\\base.py:306: UserWarning: Trying to unpickle estimator CountVectorizer from version 0.22.1 when using version 0.21.3. This might lead to breaking code or invalid results. Use at your own risk.\n",
      "  UserWarning)\n"
     ]
    },
    {
     "name": "stdout",
     "output_type": "stream",
     "text": [
      "[0]\n",
      "[0]\n",
      "[0]\n"
     ]
    },
    {
     "name": "stderr",
     "output_type": "stream",
     "text": [
      "C:\\Users\\Basma\\Anaconda3\\lib\\site-packages\\sklearn\\base.py:306: UserWarning: Trying to unpickle estimator TfidfTransformer from version 0.22.1 when using version 0.21.3. This might lead to breaking code or invalid results. Use at your own risk.\n",
      "  UserWarning)\n",
      "C:\\Users\\Basma\\Anaconda3\\lib\\site-packages\\sklearn\\base.py:306: UserWarning: Trying to unpickle estimator CountVectorizer from version 0.22.1 when using version 0.21.3. This might lead to breaking code or invalid results. Use at your own risk.\n",
      "  UserWarning)\n",
      "C:\\Users\\Basma\\Anaconda3\\lib\\site-packages\\sklearn\\base.py:306: UserWarning: Trying to unpickle estimator TfidfTransformer from version 0.22.1 when using version 0.21.3. This might lead to breaking code or invalid results. Use at your own risk.\n",
      "  UserWarning)\n"
     ]
    },
    {
     "name": "stdout",
     "output_type": "stream",
     "text": [
      "[0]\n"
     ]
    },
    {
     "name": "stderr",
     "output_type": "stream",
     "text": [
      "C:\\Users\\Basma\\Anaconda3\\lib\\site-packages\\sklearn\\base.py:306: UserWarning: Trying to unpickle estimator CountVectorizer from version 0.22.1 when using version 0.21.3. This might lead to breaking code or invalid results. Use at your own risk.\n",
      "  UserWarning)\n",
      "C:\\Users\\Basma\\Anaconda3\\lib\\site-packages\\sklearn\\base.py:306: UserWarning: Trying to unpickle estimator TfidfTransformer from version 0.22.1 when using version 0.21.3. This might lead to breaking code or invalid results. Use at your own risk.\n",
      "  UserWarning)\n",
      "C:\\Users\\Basma\\Anaconda3\\lib\\site-packages\\sklearn\\base.py:306: UserWarning: Trying to unpickle estimator CountVectorizer from version 0.22.1 when using version 0.21.3. This might lead to breaking code or invalid results. Use at your own risk.\n",
      "  UserWarning)\n"
     ]
    },
    {
     "name": "stdout",
     "output_type": "stream",
     "text": [
      "[0]\n"
     ]
    },
    {
     "name": "stderr",
     "output_type": "stream",
     "text": [
      "C:\\Users\\Basma\\Anaconda3\\lib\\site-packages\\sklearn\\base.py:306: UserWarning: Trying to unpickle estimator TfidfTransformer from version 0.22.1 when using version 0.21.3. This might lead to breaking code or invalid results. Use at your own risk.\n",
      "  UserWarning)\n"
     ]
    },
    {
     "name": "stdout",
     "output_type": "stream",
     "text": [
      "[0]\n"
     ]
    },
    {
     "name": "stderr",
     "output_type": "stream",
     "text": [
      "C:\\Users\\Basma\\Anaconda3\\lib\\site-packages\\sklearn\\base.py:306: UserWarning: Trying to unpickle estimator CountVectorizer from version 0.22.1 when using version 0.21.3. This might lead to breaking code or invalid results. Use at your own risk.\n",
      "  UserWarning)\n",
      "C:\\Users\\Basma\\Anaconda3\\lib\\site-packages\\sklearn\\base.py:306: UserWarning: Trying to unpickle estimator TfidfTransformer from version 0.22.1 when using version 0.21.3. This might lead to breaking code or invalid results. Use at your own risk.\n",
      "  UserWarning)\n"
     ]
    },
    {
     "name": "stdout",
     "output_type": "stream",
     "text": [
      "[0]\n"
     ]
    },
    {
     "name": "stderr",
     "output_type": "stream",
     "text": [
      "C:\\Users\\Basma\\Anaconda3\\lib\\site-packages\\sklearn\\base.py:306: UserWarning: Trying to unpickle estimator CountVectorizer from version 0.22.1 when using version 0.21.3. This might lead to breaking code or invalid results. Use at your own risk.\n",
      "  UserWarning)\n",
      "C:\\Users\\Basma\\Anaconda3\\lib\\site-packages\\sklearn\\base.py:306: UserWarning: Trying to unpickle estimator TfidfTransformer from version 0.22.1 when using version 0.21.3. This might lead to breaking code or invalid results. Use at your own risk.\n",
      "  UserWarning)\n"
     ]
    },
    {
     "name": "stdout",
     "output_type": "stream",
     "text": [
      "[0]\n"
     ]
    },
    {
     "name": "stderr",
     "output_type": "stream",
     "text": [
      "C:\\Users\\Basma\\Anaconda3\\lib\\site-packages\\sklearn\\base.py:306: UserWarning: Trying to unpickle estimator CountVectorizer from version 0.22.1 when using version 0.21.3. This might lead to breaking code or invalid results. Use at your own risk.\n",
      "  UserWarning)\n",
      "C:\\Users\\Basma\\Anaconda3\\lib\\site-packages\\sklearn\\base.py:306: UserWarning: Trying to unpickle estimator TfidfTransformer from version 0.22.1 when using version 0.21.3. This might lead to breaking code or invalid results. Use at your own risk.\n",
      "  UserWarning)\n"
     ]
    },
    {
     "name": "stdout",
     "output_type": "stream",
     "text": [
      "[0]\n"
     ]
    },
    {
     "name": "stderr",
     "output_type": "stream",
     "text": [
      "C:\\Users\\Basma\\Anaconda3\\lib\\site-packages\\sklearn\\base.py:306: UserWarning: Trying to unpickle estimator CountVectorizer from version 0.22.1 when using version 0.21.3. This might lead to breaking code or invalid results. Use at your own risk.\n",
      "  UserWarning)\n",
      "C:\\Users\\Basma\\Anaconda3\\lib\\site-packages\\sklearn\\base.py:306: UserWarning: Trying to unpickle estimator TfidfTransformer from version 0.22.1 when using version 0.21.3. This might lead to breaking code or invalid results. Use at your own risk.\n",
      "  UserWarning)\n"
     ]
    },
    {
     "name": "stdout",
     "output_type": "stream",
     "text": [
      "[0]\n"
     ]
    },
    {
     "name": "stderr",
     "output_type": "stream",
     "text": [
      "C:\\Users\\Basma\\Anaconda3\\lib\\site-packages\\sklearn\\base.py:306: UserWarning: Trying to unpickle estimator CountVectorizer from version 0.22.1 when using version 0.21.3. This might lead to breaking code or invalid results. Use at your own risk.\n",
      "  UserWarning)\n",
      "C:\\Users\\Basma\\Anaconda3\\lib\\site-packages\\sklearn\\base.py:306: UserWarning: Trying to unpickle estimator TfidfTransformer from version 0.22.1 when using version 0.21.3. This might lead to breaking code or invalid results. Use at your own risk.\n",
      "  UserWarning)\n"
     ]
    },
    {
     "name": "stdout",
     "output_type": "stream",
     "text": [
      "[0]\n"
     ]
    },
    {
     "name": "stderr",
     "output_type": "stream",
     "text": [
      "C:\\Users\\Basma\\Anaconda3\\lib\\site-packages\\sklearn\\base.py:306: UserWarning: Trying to unpickle estimator CountVectorizer from version 0.22.1 when using version 0.21.3. This might lead to breaking code or invalid results. Use at your own risk.\n",
      "  UserWarning)\n",
      "C:\\Users\\Basma\\Anaconda3\\lib\\site-packages\\sklearn\\base.py:306: UserWarning: Trying to unpickle estimator TfidfTransformer from version 0.22.1 when using version 0.21.3. This might lead to breaking code or invalid results. Use at your own risk.\n",
      "  UserWarning)\n",
      "C:\\Users\\Basma\\Anaconda3\\lib\\site-packages\\sklearn\\base.py:306: UserWarning: Trying to unpickle estimator CountVectorizer from version 0.22.1 when using version 0.21.3. This might lead to breaking code or invalid results. Use at your own risk.\n",
      "  UserWarning)\n",
      "C:\\Users\\Basma\\Anaconda3\\lib\\site-packages\\sklearn\\base.py:306: UserWarning: Trying to unpickle estimator TfidfTransformer from version 0.22.1 when using version 0.21.3. This might lead to breaking code or invalid results. Use at your own risk.\n",
      "  UserWarning)\n"
     ]
    },
    {
     "name": "stdout",
     "output_type": "stream",
     "text": [
      "[0]\n",
      "[0]\n"
     ]
    },
    {
     "name": "stderr",
     "output_type": "stream",
     "text": [
      "C:\\Users\\Basma\\Anaconda3\\lib\\site-packages\\sklearn\\base.py:306: UserWarning: Trying to unpickle estimator CountVectorizer from version 0.22.1 when using version 0.21.3. This might lead to breaking code or invalid results. Use at your own risk.\n",
      "  UserWarning)\n",
      "C:\\Users\\Basma\\Anaconda3\\lib\\site-packages\\sklearn\\base.py:306: UserWarning: Trying to unpickle estimator TfidfTransformer from version 0.22.1 when using version 0.21.3. This might lead to breaking code or invalid results. Use at your own risk.\n",
      "  UserWarning)\n"
     ]
    },
    {
     "name": "stdout",
     "output_type": "stream",
     "text": [
      "[0]\n",
      "fbi russia probe help australian diplomat tipoff nyt washington reuters trump campaign adviser george papadopoulos tell australian diplomat may russia political dirt democratic presidential candidate hillary clinton new york time report saturday conversation papadopoulos diplomat alexander downer london drive factor behind fbi decision open counterintelligence investigation moscow contact trump campaign time report two months meet australian officials pass information come papadopoulos american counterparts leak democratic email begin appear online accord newspaper cite four current former us foreign officials besides information australians probe federal bureau investigation also propel intelligence friendly governments include british dutch time say papadopoulos chicagobased international energy lawyer plead guilty oct lie fbi agents contact people claim tie top russian officials first criminal charge allege link trump campaign russia white house play former aide campaign role say extremely limit action take would new york time however report papadopoulos help set meet thencandidate donald trump egyptian president abdel fattah alsisi edit outline trump first major foreign policy speech april federal investigation lead special counsel robert mueller hang trump white house since take office almost year ago trump ally recently accuse mueller team bias republican president lawyers papadopoulos immediately respond request reuters comment mueller office decline comment trump white house attorney ty cobb decline comment new york time report respect special counsel process comment matter say statement mueller charge four trump associate include papadopoulos investigation russia deny interfere us election trump say collusion campaign moscow white house congress prepare talk spend immigration west palm beach flawashington reuters white house say friday set kick talk next week republican democratic congressional leaders immigration policy government spend issue need wrap early new year expect flurry legislative activity come republicans democrats begin set stage midterm congressional elections november president donald trump republican party eager maintain control congress democrats look open wrest seat away senate house representatives wednesday trump budget chief mick mulvaney legislative affairs director marc short meet senate majority leader mitch mcconnell house speaker paul ryan republicans democratic counterparts senator chuck schumer representative nancy pelosi white house say follow weekend strategy sessions trump mcconnell ryan jan camp david presidential retreat maryland accord white house senate return work jan house jan congress pass shortterm government fund bill last week take christmas break need come agreement defense spend various domestic program jan government shut also agenda lawmakers disaster aid people hit hurricanes puerto rico texas florida wildfires california house pass billion package december senate take white house ask smaller figure billion deadlines also loom soontoexpire protections young adult immigrants enter country illegally children know dreamers september trump end democratic former president barack obama defer action childhood arrivals daca program protect dreamers deportation provide work permit effective march give congress devise longterm solution democrats republicans number large company push daca protections continue trump republicans say happen without congress approve broader immigration policy change tougher border security democrats oppose fund wall promise trump along usmexican border democrats tell fully understand daca without desperately need wall southern border end horrible chain migration ridiculous lottery system immigration etc trump say twitter post friday trump want overhaul immigration rule extend families others seek live unite state republican us senator jeff flake frequent critic president say would work trump protect dreamers fix daca way beef border security stop chain migration dreamers address unfairness diversity lottery potus trump want protect kid want help keep promise flake write twitter congress early also must raise us debt ceiling avoid government default us treasury would exhaust borrow options run dry cash pay bill late march early april congress raise debt ceiling accord nonpartisan congressional budget office trump first major legislative victory passage major tax overhaul month also promise major infrastructure plan trump twitter dec approval rat amazon follow statementsxawere post verify twitter account us president donald trump donaldtrump potus opinions express ownxareuters edit statements confirm accuracy donaldtrump fake news love talk socalled low approval rat show rat dec approximately president obama dec despite massive negative trump coverage russia hoax est unite state post office lose many billions dollars year charge amazon others little deliver package make amazon richer post office dumber poorer charge much est source link bitlyjbhlu bitlyjpexyr trump twitter dec global warm follow statementsxawere post verify twitter account us president donald trump donaldtrump potus opinions express ownxareuters edit statements confirm accuracy donaldtrump together make america great bitlylnpkaq est east could coldest new year eve record perhaps could use little bite good old global warm country countries go pay trillions dollars protect bundle est source link bitlyjbhlu bitlyjpexyr alabama official certify senatorelect jones today despite challenge cnn washington reuters alabama secretary state john merrill say certify democratic senatorelect doug jones winner thursday despite opponent roy moore challenge phone call cnn moore conservative face allegations grope teenage girls file court challenge late wednesday outcome us senate election unexpectedly lose jones certify us senate winner despite moore challenge reuters alabama officials thursday certify democrat doug jones winner state us senate race state judge deny challenge republican roy moore whose campaign derail accusations sexual misconduct teenage girls jones vacant seat vote percentage point election officials say make first democrat quarter century win senate seat alabama seat previously hold republican jeff sessions tap us president donald trump attorney general state canvass board compose alabama secretary state john merrill governor kay ivey attorney general steve marshall certify election result seat jones narrow republican majority senate seat statement jones call victory new chapter pledge work party moore decline concede defeat even trump urge stand claim fraudulent election statement release certification say regret media outlets report alabama judge deny moore request block certification result dec election decision shortly canvass board meet moore challenge allege potential voter fraud deny chance victory file wednesday montgomery circuit court seek halt meet schedule ratify jones win thursday moore could ask recount addition possible court challenge merrill say interview fox news channel would complete paperwork within time period show money challenge merrill say notify yet intention merrill say regard claim voter fraud merrill tell cnn case report adjudicate continue say republican lawmakers washington distance moore call drop race several women accuse sexual assault misconduct date back teenagers early moore deny wrongdoing reuters able independently verify allegations new york governor question constitutionality federal tax overhaul new yorkwashington reuters new us tax code target hightax state may unconstitutional new york governor andrew cuomo say thursday say bill may violate new york residents right due process equal protection sweep republican tax bill sign law us president donald trump friday introduce cap deductions state local income property tax know salt tax overhaul party first major legislative victory since trump take office january salt provision hit many taxpayers state high incomes high property value high tax like new york new jersey california state generally democratic lean even sure legally constitutional something look cuomo say interview cnn interview cnbc cuomo suggest bill may unconstitutional politics trump law cuomo say cnbc constitution law due process equal protection use politics majority control override law fifth amendment constitution better know protection selfincrimination also protect individuals seizure life liberty property without due process interpret supreme court guarantee equal protection law cuomo california governor jerry brown democrats previously say explore legal challenge salt deduction limit law professors say legal challenge would likely rest argue provision interfere protection state right us constitution th amendment tax attorneys say cuomo legal argument tax bill could discriminate place unjust tax burden state heavily vote democrats past know blue state de facto effect legislation discriminate blue state particularly cuomo perspective state new york say joseph callahan attorney law firm mackay caswell callahan new york tax experts note us supreme court interpret th amendment give congress broad latitude tax see fit frequently cite decision supreme court call tax deductions legislative grace rather vest right understand think valid lawsuit david gamage professor tax law indiana university maurer school law tell reuters last week speak generally governors blue state could challenge tax bill cuomo also say thursday new york propose restructure tax code provide detail group law professors dec publish paper suggest ways hightax state could minimize effect salt deduction cap suggestions include shift tax burden onto businesses form higher employerside payroll tax since federal tax bill cap salt deductions apply individuals businesses state also could raise tax passthrough entities federal tax bill specifically benefit lower rate portion income friday cuomo say would allow state residents make partial full prepayment property tax bill jan allow taxpapyers deduct payments cap kick prompt wave residents pay early however us internal revenue service wednesday advise homeowners prepayment property tax may deductible trump twitter dec vanity fair hillary clinton follow statementsxawere post verify twitter account us president donald trump donaldtrump potus opinions express ownxareuters edit statements confirm accuracy donaldtrump vanity fair look like last legs bend backwards apologize minor hit take crook h anna wintour set amb court st jam big fundraiser ch beside grief beg forgiveness est source link bitlyjbhlu bitlyjpexyr trump twitter dec vanity fair hillary clinton follow statementsxawere post verify twitter account us president donald trump donaldtrump potus opinions express ownxareuters edit statements confirm accuracy donaldtrump vanity fair look like last legs bend backwards apologize minor hit take crook h anna wintour set amb court st jam big fundraiser ch beside grief beg forgiveness est source link bitlyjbhlu bitlyjpexyr man say deliver manure mnuchin protest new us tax law dec story second paragraph correct name strong employer mental health department public health department bernie woodall reuters man claim person deliver giftwrapped package horse manure los angeles home us treasury secretary steven mnuchin say monday protest federal tax overhaul sign law last week president donald trump robert strong psychologist los angeles county mental health department say telephone leave poopfilled parcel address mnuchin trump driveway outside mnuchin home posh bel air community knbctv nbc television affiliate los angeles report mnuchin home time package find mnuchin neighbor protest really funny strong tell reuters people eye glaze see angry people streets believe new tax law hurt poor people neither us secret service los angeles police department investigate incident would confirm strong responsible secret service interview individual admit deliver package charge file monday afternoon lapd lieutenant rob weise say possible whoever leave package break criminal laws assign investigate incident weise say box present danger would illegal lapd bomb squad xrayed box open saturday photo card strong post twitter write misters mnuchin trump return gift christmas tax bill sign warmest wish american people strong say secret service agent accompany six police officer show house question sunday night agent chide ask ashamed behavior white house decline comment monday officials treasury department could reach\n"
     ]
    },
    {
     "name": "stderr",
     "output_type": "stream",
     "text": [
      "C:\\Users\\Basma\\Anaconda3\\lib\\site-packages\\sklearn\\base.py:306: UserWarning: Trying to unpickle estimator CountVectorizer from version 0.22.1 when using version 0.21.3. This might lead to breaking code or invalid results. Use at your own risk.\n",
      "  UserWarning)\n",
      "C:\\Users\\Basma\\Anaconda3\\lib\\site-packages\\sklearn\\base.py:306: UserWarning: Trying to unpickle estimator TfidfTransformer from version 0.22.1 when using version 0.21.3. This might lead to breaking code or invalid results. Use at your own risk.\n",
      "  UserWarning)\n"
     ]
    },
    {
     "name": "stdout",
     "output_type": "stream",
     "text": [
      "[1]\n"
     ]
    }
   ],
   "source": [
    "# -*- coding: utf-8 -*-\n",
    "\n",
    "# Form implementation generated from reading ui file 'model.ui'\n",
    "#\n",
    "# Created by: PyQt5 UI code generator 5.9.2\n",
    "#\n",
    "# WARNING! All changes made in this file will be lost!\n",
    "\n",
    "from PyQt5 import QtCore, QtGui, QtWidgets\n",
    "from cleaning_text  import cleantext\n",
    "#from clean import cleantext\n",
    "task= cleantext()\n",
    "import pickle as p\n",
    "from sklearn.ensemble import RandomForestClassifier\n",
    "class Ui_MainWindow(object):\n",
    "    def setupUi(self, MainWindow):\n",
    "        MainWindow.setObjectName(\"MainWindow\")\n",
    "        MainWindow.resize(800, 600)\n",
    "        self.centralwidget = QtWidgets.QWidget(MainWindow)\n",
    "        self.centralwidget.setObjectName(\"centralwidget\")\n",
    "        self.label = QtWidgets.QLabel(self.centralwidget)\n",
    "        self.label.setGeometry(QtCore.QRect(190, 30, 501, 41))\n",
    "        palette = QtGui.QPalette()\n",
    "        brush = QtGui.QBrush(QtGui.QColor(0, 0, 0))\n",
    "        brush.setStyle(QtCore.Qt.SolidPattern)\n",
    "        palette.setBrush(QtGui.QPalette.Active, QtGui.QPalette.WindowText, brush)\n",
    "        brush = QtGui.QBrush(QtGui.QColor(255, 85, 127))\n",
    "        brush.setStyle(QtCore.Qt.SolidPattern)\n",
    "        palette.setBrush(QtGui.QPalette.Active, QtGui.QPalette.Button, brush)\n",
    "        brush = QtGui.QBrush(QtGui.QColor(255, 213, 223))\n",
    "        brush.setStyle(QtCore.Qt.SolidPattern)\n",
    "        palette.setBrush(QtGui.QPalette.Active, QtGui.QPalette.Light, brush)\n",
    "        brush = QtGui.QBrush(QtGui.QColor(255, 149, 175))\n",
    "        brush.setStyle(QtCore.Qt.SolidPattern)\n",
    "        palette.setBrush(QtGui.QPalette.Active, QtGui.QPalette.Midlight, brush)\n",
    "        brush = QtGui.QBrush(QtGui.QColor(127, 42, 63))\n",
    "        brush.setStyle(QtCore.Qt.SolidPattern)\n",
    "        palette.setBrush(QtGui.QPalette.Active, QtGui.QPalette.Dark, brush)\n",
    "        brush = QtGui.QBrush(QtGui.QColor(170, 56, 84))\n",
    "        brush.setStyle(QtCore.Qt.SolidPattern)\n",
    "        palette.setBrush(QtGui.QPalette.Active, QtGui.QPalette.Mid, brush)\n",
    "        brush = QtGui.QBrush(QtGui.QColor(0, 0, 0))\n",
    "        brush.setStyle(QtCore.Qt.SolidPattern)\n",
    "        palette.setBrush(QtGui.QPalette.Active, QtGui.QPalette.Text, brush)\n",
    "        brush = QtGui.QBrush(QtGui.QColor(255, 255, 255))\n",
    "        brush.setStyle(QtCore.Qt.SolidPattern)\n",
    "        palette.setBrush(QtGui.QPalette.Active, QtGui.QPalette.BrightText, brush)\n",
    "        brush = QtGui.QBrush(QtGui.QColor(0, 0, 0))\n",
    "        brush.setStyle(QtCore.Qt.SolidPattern)\n",
    "        palette.setBrush(QtGui.QPalette.Active, QtGui.QPalette.ButtonText, brush)\n",
    "        brush = QtGui.QBrush(QtGui.QColor(255, 255, 255))\n",
    "        brush.setStyle(QtCore.Qt.SolidPattern)\n",
    "        palette.setBrush(QtGui.QPalette.Active, QtGui.QPalette.Base, brush)\n",
    "        brush = QtGui.QBrush(QtGui.QColor(255, 85, 127))\n",
    "        brush.setStyle(QtCore.Qt.SolidPattern)\n",
    "        palette.setBrush(QtGui.QPalette.Active, QtGui.QPalette.Window, brush)\n",
    "        brush = QtGui.QBrush(QtGui.QColor(0, 0, 0))\n",
    "        brush.setStyle(QtCore.Qt.SolidPattern)\n",
    "        palette.setBrush(QtGui.QPalette.Active, QtGui.QPalette.Shadow, brush)\n",
    "        brush = QtGui.QBrush(QtGui.QColor(255, 170, 191))\n",
    "        brush.setStyle(QtCore.Qt.SolidPattern)\n",
    "        palette.setBrush(QtGui.QPalette.Active, QtGui.QPalette.AlternateBase, brush)\n",
    "        brush = QtGui.QBrush(QtGui.QColor(255, 255, 220))\n",
    "        brush.setStyle(QtCore.Qt.SolidPattern)\n",
    "        palette.setBrush(QtGui.QPalette.Active, QtGui.QPalette.ToolTipBase, brush)\n",
    "        brush = QtGui.QBrush(QtGui.QColor(0, 0, 0))\n",
    "        brush.setStyle(QtCore.Qt.SolidPattern)\n",
    "        palette.setBrush(QtGui.QPalette.Active, QtGui.QPalette.ToolTipText, brush)\n",
    "        brush = QtGui.QBrush(QtGui.QColor(0, 0, 0))\n",
    "        brush.setStyle(QtCore.Qt.SolidPattern)\n",
    "        palette.setBrush(QtGui.QPalette.Inactive, QtGui.QPalette.WindowText, brush)\n",
    "        brush = QtGui.QBrush(QtGui.QColor(255, 85, 127))\n",
    "        brush.setStyle(QtCore.Qt.SolidPattern)\n",
    "        palette.setBrush(QtGui.QPalette.Inactive, QtGui.QPalette.Button, brush)\n",
    "        brush = QtGui.QBrush(QtGui.QColor(255, 213, 223))\n",
    "        brush.setStyle(QtCore.Qt.SolidPattern)\n",
    "        palette.setBrush(QtGui.QPalette.Inactive, QtGui.QPalette.Light, brush)\n",
    "        brush = QtGui.QBrush(QtGui.QColor(255, 149, 175))\n",
    "        brush.setStyle(QtCore.Qt.SolidPattern)\n",
    "        palette.setBrush(QtGui.QPalette.Inactive, QtGui.QPalette.Midlight, brush)\n",
    "        brush = QtGui.QBrush(QtGui.QColor(127, 42, 63))\n",
    "        brush.setStyle(QtCore.Qt.SolidPattern)\n",
    "        palette.setBrush(QtGui.QPalette.Inactive, QtGui.QPalette.Dark, brush)\n",
    "        brush = QtGui.QBrush(QtGui.QColor(170, 56, 84))\n",
    "        brush.setStyle(QtCore.Qt.SolidPattern)\n",
    "        palette.setBrush(QtGui.QPalette.Inactive, QtGui.QPalette.Mid, brush)\n",
    "        brush = QtGui.QBrush(QtGui.QColor(0, 0, 0))\n",
    "        brush.setStyle(QtCore.Qt.SolidPattern)\n",
    "        palette.setBrush(QtGui.QPalette.Inactive, QtGui.QPalette.Text, brush)\n",
    "        brush = QtGui.QBrush(QtGui.QColor(255, 255, 255))\n",
    "        brush.setStyle(QtCore.Qt.SolidPattern)\n",
    "        palette.setBrush(QtGui.QPalette.Inactive, QtGui.QPalette.BrightText, brush)\n",
    "        brush = QtGui.QBrush(QtGui.QColor(0, 0, 0))\n",
    "        brush.setStyle(QtCore.Qt.SolidPattern)\n",
    "        palette.setBrush(QtGui.QPalette.Inactive, QtGui.QPalette.ButtonText, brush)\n",
    "        brush = QtGui.QBrush(QtGui.QColor(255, 255, 255))\n",
    "        brush.setStyle(QtCore.Qt.SolidPattern)\n",
    "        palette.setBrush(QtGui.QPalette.Inactive, QtGui.QPalette.Base, brush)\n",
    "        brush = QtGui.QBrush(QtGui.QColor(255, 85, 127))\n",
    "        brush.setStyle(QtCore.Qt.SolidPattern)\n",
    "        palette.setBrush(QtGui.QPalette.Inactive, QtGui.QPalette.Window, brush)\n",
    "        brush = QtGui.QBrush(QtGui.QColor(0, 0, 0))\n",
    "        brush.setStyle(QtCore.Qt.SolidPattern)\n",
    "        palette.setBrush(QtGui.QPalette.Inactive, QtGui.QPalette.Shadow, brush)\n",
    "        brush = QtGui.QBrush(QtGui.QColor(255, 170, 191))\n",
    "        brush.setStyle(QtCore.Qt.SolidPattern)\n",
    "        palette.setBrush(QtGui.QPalette.Inactive, QtGui.QPalette.AlternateBase, brush)\n",
    "        brush = QtGui.QBrush(QtGui.QColor(255, 255, 220))\n",
    "        brush.setStyle(QtCore.Qt.SolidPattern)\n",
    "        palette.setBrush(QtGui.QPalette.Inactive, QtGui.QPalette.ToolTipBase, brush)\n",
    "        brush = QtGui.QBrush(QtGui.QColor(0, 0, 0))\n",
    "        brush.setStyle(QtCore.Qt.SolidPattern)\n",
    "        palette.setBrush(QtGui.QPalette.Inactive, QtGui.QPalette.ToolTipText, brush)\n",
    "        brush = QtGui.QBrush(QtGui.QColor(127, 42, 63))\n",
    "        brush.setStyle(QtCore.Qt.SolidPattern)\n",
    "        palette.setBrush(QtGui.QPalette.Disabled, QtGui.QPalette.WindowText, brush)\n",
    "        brush = QtGui.QBrush(QtGui.QColor(255, 85, 127))\n",
    "        brush.setStyle(QtCore.Qt.SolidPattern)\n",
    "        palette.setBrush(QtGui.QPalette.Disabled, QtGui.QPalette.Button, brush)\n",
    "        brush = QtGui.QBrush(QtGui.QColor(255, 213, 223))\n",
    "        brush.setStyle(QtCore.Qt.SolidPattern)\n",
    "        palette.setBrush(QtGui.QPalette.Disabled, QtGui.QPalette.Light, brush)\n",
    "        brush = QtGui.QBrush(QtGui.QColor(255, 149, 175))\n",
    "        brush.setStyle(QtCore.Qt.SolidPattern)\n",
    "        palette.setBrush(QtGui.QPalette.Disabled, QtGui.QPalette.Midlight, brush)\n",
    "        brush = QtGui.QBrush(QtGui.QColor(127, 42, 63))\n",
    "        brush.setStyle(QtCore.Qt.SolidPattern)\n",
    "        palette.setBrush(QtGui.QPalette.Disabled, QtGui.QPalette.Dark, brush)\n",
    "        brush = QtGui.QBrush(QtGui.QColor(170, 56, 84))\n",
    "        brush.setStyle(QtCore.Qt.SolidPattern)\n",
    "        palette.setBrush(QtGui.QPalette.Disabled, QtGui.QPalette.Mid, brush)\n",
    "        brush = QtGui.QBrush(QtGui.QColor(127, 42, 63))\n",
    "        brush.setStyle(QtCore.Qt.SolidPattern)\n",
    "        palette.setBrush(QtGui.QPalette.Disabled, QtGui.QPalette.Text, brush)\n",
    "        brush = QtGui.QBrush(QtGui.QColor(255, 255, 255))\n",
    "        brush.setStyle(QtCore.Qt.SolidPattern)\n",
    "        palette.setBrush(QtGui.QPalette.Disabled, QtGui.QPalette.BrightText, brush)\n",
    "        brush = QtGui.QBrush(QtGui.QColor(127, 42, 63))\n",
    "        brush.setStyle(QtCore.Qt.SolidPattern)\n",
    "        palette.setBrush(QtGui.QPalette.Disabled, QtGui.QPalette.ButtonText, brush)\n",
    "        brush = QtGui.QBrush(QtGui.QColor(255, 85, 127))\n",
    "        brush.setStyle(QtCore.Qt.SolidPattern)\n",
    "        palette.setBrush(QtGui.QPalette.Disabled, QtGui.QPalette.Base, brush)\n",
    "        brush = QtGui.QBrush(QtGui.QColor(255, 85, 127))\n",
    "        brush.setStyle(QtCore.Qt.SolidPattern)\n",
    "        palette.setBrush(QtGui.QPalette.Disabled, QtGui.QPalette.Window, brush)\n",
    "        brush = QtGui.QBrush(QtGui.QColor(0, 0, 0))\n",
    "        brush.setStyle(QtCore.Qt.SolidPattern)\n",
    "        palette.setBrush(QtGui.QPalette.Disabled, QtGui.QPalette.Shadow, brush)\n",
    "        brush = QtGui.QBrush(QtGui.QColor(255, 85, 127))\n",
    "        brush.setStyle(QtCore.Qt.SolidPattern)\n",
    "        palette.setBrush(QtGui.QPalette.Disabled, QtGui.QPalette.AlternateBase, brush)\n",
    "        brush = QtGui.QBrush(QtGui.QColor(255, 255, 220))\n",
    "        brush.setStyle(QtCore.Qt.SolidPattern)\n",
    "        palette.setBrush(QtGui.QPalette.Disabled, QtGui.QPalette.ToolTipBase, brush)\n",
    "        brush = QtGui.QBrush(QtGui.QColor(0, 0, 0))\n",
    "        brush.setStyle(QtCore.Qt.SolidPattern)\n",
    "        palette.setBrush(QtGui.QPalette.Disabled, QtGui.QPalette.ToolTipText, brush)\n",
    "        self.label.setPalette(palette)\n",
    "        font = QtGui.QFont()\n",
    "        font.setFamily(\"Berlin Sans FB\")\n",
    "        font.setPointSize(20)\n",
    "        self.label.setFont(font)\n",
    "        self.label.setObjectName(\"label\")\n",
    "        self.label_2 = QtWidgets.QLabel(self.centralwidget)\n",
    "        self.label_2.setGeometry(QtCore.QRect(60, 90, 131, 31))\n",
    "        font = QtGui.QFont()\n",
    "        font.setFamily(\"MS Sans Serif\")\n",
    "        font.setPointSize(15)\n",
    "        font.setBold(True)\n",
    "        font.setItalic(True)\n",
    "        font.setWeight(75)\n",
    "        self.label_2.setFont(font)\n",
    "        self.label_2.setObjectName(\"label_2\")\n",
    "        self.inputext = QtWidgets.QLineEdit(self.centralwidget)\n",
    "        self.inputext.setGeometry(QtCore.QRect(210, 90, 421, 41))\n",
    "        self.inputext.setObjectName(\"inputext\")\n",
    "        self.preprocessing = QtWidgets.QPushButton(self.centralwidget)\n",
    "        self.preprocessing.setGeometry(QtCore.QRect(110, 180, 201, 41))\n",
    "        font = QtGui.QFont()\n",
    "        font.setFamily(\"MS Sans Serif\")\n",
    "        font.setPointSize(14)\n",
    "        font.setBold(True)\n",
    "        font.setWeight(75)\n",
    "        self.preprocessing.setFont(font)\n",
    "        self.preprocessing.setObjectName(\"preprocessing\")\n",
    "        self.classify = QtWidgets.QPushButton(self.centralwidget)\n",
    "        self.classify.setGeometry(QtCore.QRect(120, 270, 161, 51))\n",
    "        font = QtGui.QFont()\n",
    "        font.setFamily(\"MS Sans Serif\")\n",
    "        font.setPointSize(14)\n",
    "        font.setBold(True)\n",
    "        font.setWeight(75)\n",
    "        self.classify.setFont(font)\n",
    "        self.classify.setObjectName(\"classify\")\n",
    "        self.output = QtWidgets.QLabel(self.centralwidget)\n",
    "        self.output.setGeometry(QtCore.QRect(420, 290, 101, 31))\n",
    "        font = QtGui.QFont()\n",
    "        font.setFamily(\"MS Sans Serif\")\n",
    "        font.setPointSize(15)\n",
    "        font.setBold(True)\n",
    "        font.setItalic(True)\n",
    "        font.setWeight(75)\n",
    "        self.output.setFont(font)\n",
    "        self.output.setObjectName(\" \")\n",
    "        MainWindow.setCentralWidget(self.centralwidget)\n",
    "        self.menubar = QtWidgets.QMenuBar(MainWindow)\n",
    "        self.menubar.setGeometry(QtCore.QRect(0, 0, 800, 26))\n",
    "        self.menubar.setObjectName(\"menubar\")\n",
    "        MainWindow.setMenuBar(self.menubar)\n",
    "        self.statusbar = QtWidgets.QStatusBar(MainWindow)\n",
    "        self.statusbar.setObjectName(\"statusbar\")\n",
    "        MainWindow.setStatusBar(self.statusbar)\n",
    "\n",
    "        self.retranslateUi(MainWindow)\n",
    "        QtCore.QMetaObject.connectSlotsByName(MainWindow)\n",
    "        \n",
    "        self.preprocessing.clicked.connect(self.preprocess)\n",
    "        self.classify.clicked.connect(self.prediction)\n",
    "\n",
    "    def retranslateUi(self, MainWindow):\n",
    "        _translate = QtCore.QCoreApplication.translate\n",
    "        MainWindow.setWindowTitle(_translate(\"MainWindow\", \"MainWindow\"))\n",
    "        self.label.setText(_translate(\"MainWindow\", \"True & Fake News Detection Model \"))\n",
    "        self.label_2.setText(_translate(\"MainWindow\", \"Enter text\"))\n",
    "        self.preprocessing.setText(_translate(\"MainWindow\", \"Preprocessing \"))\n",
    "        self.classify.setText(_translate(\"MainWindow\", \"Predict\"))\n",
    "        self.output.setText(_translate(\"MainWindow\", \"TextLabel\"))\n",
    "        \n",
    "    def preprocess(self):\n",
    "        t= self.inputext.text()\n",
    "        self.preprocessed=task.final_processed(t)\n",
    "        print(self.preprocessed)\n",
    "   \n",
    "    def prediction(self):\n",
    "        self.features= task.data_vectorized(self.preprocessed)\n",
    "        op=task.get_label(self.features)\n",
    "        print(op)\n",
    "        \n",
    "        if op ==0:\n",
    "            return self.output.setText(\"Fake\")\n",
    "        else:\n",
    "            return self.output.setText(\"Not Fake\")\n",
    "        #self.withtax.setText(str(res))\n",
    "\n",
    "\n",
    "\n",
    "if __name__ == \"__main__\":\n",
    "    import sys\n",
    "    app = QtWidgets.QApplication(sys.argv)\n",
    "    MainWindow = QtWidgets.QMainWindow()\n",
    "    ui = Ui_MainWindow()\n",
    "    ui.setupUi(MainWindow)\n",
    "    MainWindow.show()\n",
    "    sys.exit(app.exec_())\n",
    "\n"
   ]
  }
 ],
 "metadata": {
  "kernelspec": {
   "display_name": "Python 3",
   "language": "python",
   "name": "python3"
  },
  "language_info": {
   "codemirror_mode": {
    "name": "ipython",
    "version": 3
   },
   "file_extension": ".py",
   "mimetype": "text/x-python",
   "name": "python",
   "nbconvert_exporter": "python",
   "pygments_lexer": "ipython3",
   "version": "3.7.4"
  }
 },
 "nbformat": 4,
 "nbformat_minor": 2
}
